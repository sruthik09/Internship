{
 "cells": [
  {
   "cell_type": "code",
   "execution_count": 1,
   "metadata": {},
   "outputs": [
    {
     "name": "stdout",
     "output_type": "stream",
     "text": [
      "Count of all characters in DataScience is :\n",
      " Counter({'a': 2, 'c': 2, 'e': 2, 'D': 1, 't': 1, 'S': 1, 'i': 1, 'n': 1})\n"
     ]
    }
   ],
   "source": [
    "# each frequency using collections.Counter()\n",
    "from collections import Counter\n",
    "  \n",
    "# initializing string \n",
    "test_str = \"DataScience\"\n",
    "  \n",
    "# using collections.Counter() to get \n",
    "# count of each element in string \n",
    "res = Counter(test_str)\n",
    "  \n",
    "# printing result \n",
    "print (\"Count of all characters in DataScience is :\\n \" +  str(res))"
   ]
  },
  {
   "cell_type": "code",
   "execution_count": null,
   "metadata": {},
   "outputs": [],
   "source": []
  }
 ],
 "metadata": {
  "kernelspec": {
   "display_name": "Python 3",
   "language": "python",
   "name": "python3"
  },
  "language_info": {
   "codemirror_mode": {
    "name": "ipython",
    "version": 3
   },
   "file_extension": ".py",
   "mimetype": "text/x-python",
   "name": "python",
   "nbconvert_exporter": "python",
   "pygments_lexer": "ipython3",
   "version": "3.7.6"
  }
 },
 "nbformat": 4,
 "nbformat_minor": 4
}
